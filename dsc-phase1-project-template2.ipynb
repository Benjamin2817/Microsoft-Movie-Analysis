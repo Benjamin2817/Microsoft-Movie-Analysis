{
 "cells": [
  {
   "cell_type": "markdown",
   "metadata": {},
   "source": [
    "# Movie Analysis for Microsoft\n",
    "\n",
    "**Author:** Benjamin Dean\n",
    "***"
   ]
  },
  {
   "cell_type": "markdown",
   "metadata": {},
   "source": [
    "## Project Overview\n"
   ]
  },
  {
   "cell_type": "markdown",
   "metadata": {},
   "source": [
    "This project explores six seperate datasets from IMDB.com, TheMovieDB.com, and the-numbers.com. Through analysis of this data "
   ]
  },
  {
   "cell_type": "markdown",
   "metadata": {},
   "source": [
    "### Business Problem"
   ]
  },
  {
   "cell_type": "markdown",
   "metadata": {},
   "source": [
    "\"Content is King\"\n",
    "Competitors Apple, Amazon and Netflix either create or secure original video content. In an effort to join them Microsoft has started their own movie studio. "
   ]
  },
  {
   "cell_type": "markdown",
   "metadata": {},
   "source": [
    "#### Import Libraries"
   ]
  },
  {
   "cell_type": "code",
   "execution_count": 1,
   "metadata": {},
   "outputs": [],
   "source": [
    "import pandas as pd\n",
    "import numpy as np\n",
    "import matplotlib.pyplot as plt\n",
    "import seaborn as sns\n",
    "\n",
    "%matplotlib inline\n",
    "pd.set_option('display.max_rows', 100)"
   ]
  },
  {
   "cell_type": "markdown",
   "metadata": {},
   "source": [
    "#### Import datasets"
   ]
  },
  {
   "cell_type": "code",
   "execution_count": 2,
   "metadata": {},
   "outputs": [],
   "source": [
    "ratings = pd.read_csv('data/zippedData/imdb.title.ratings.csv.gz')\n",
    "basics = pd.read_csv('data/zippedData/imdb.title.basics.csv.gz')\n",
    "directors = pd.read_csv('data/zippedData/imdb.title.crew.csv.gz')\n",
    "names = pd.read_csv('data/zippedData/imdb.name.basics.csv.gz')\n",
    "releases = pd.read_csv('data/zippedData/tmdb.movies.csv.gz')\n",
    "budgets = pd.read_csv('data/zippedData/tn.movie_budgets.csv.gz')"
   ]
  },
  {
   "cell_type": "markdown",
   "metadata": {},
   "source": [
    "## Data Preparation"
   ]
  },
  {
   "cell_type": "markdown",
   "metadata": {},
   "source": [
    "#### Remove unwanted columns and rows"
   ]
  },
  {
   "cell_type": "code",
   "execution_count": 3,
   "metadata": {},
   "outputs": [],
   "source": [
    "ratings = ratings.drop(ratings[ratings.numvotes < 100].index)\n",
    "names = names[names['primary_profession'].str.contains('director', na=False)]\n",
    "names.drop(columns = ['birth_year', 'death_year', 'known_for_titles'], inplace=True)\n",
    "basics.drop(columns = ['original_title', 'runtime_minutes'], inplace=True)\n",
    "directors.drop(columns = 'writers', inplace=True)\n",
    "releases.drop(columns = ['genre_ids', 'id', 'original_language', 'popularity',\\\n",
    "                         'original_title', 'vote_average', 'vote_count'], inplace=True)"
   ]
  },
  {
   "cell_type": "markdown",
   "metadata": {},
   "source": [
    "#### Rename columns to allow for dataset merging"
   ]
  },
  {
   "cell_type": "code",
   "execution_count": 4,
   "metadata": {},
   "outputs": [],
   "source": [
    "directors.rename(columns={'directors': 'nconst'}, inplace=True)\n",
    "releases.rename(columns={'title': 'primary_title'}, inplace=True)\n",
    "budgets.rename(columns={'movie': 'primary_title'}, inplace=True)"
   ]
  },
  {
   "cell_type": "code",
   "execution_count": 5,
   "metadata": {},
   "outputs": [],
   "source": [
    "releases.release_date = pd.to_datetime(releases.release_date)\n",
    "budgets.release_date = pd.to_datetime(budgets.release_date)"
   ]
  },
  {
   "cell_type": "code",
   "execution_count": 6,
   "metadata": {},
   "outputs": [],
   "source": [
    "genres_by_ratings = pd.merge(ratings, basics, on='tconst')\\\n",
    "                      .merge(directors, on='tconst')\\\n",
    "                      .merge(names, on='nconst')\\\n",
    "                      .merge(releases, on='primary_title' )\\\n",
    "                      .merge(budgets, on=['primary_title', 'release_date'])"
   ]
  },
  {
   "cell_type": "markdown",
   "metadata": {},
   "source": [
    "#### Remove unwanted characters in order to make values convertable to intergers"
   ]
  },
  {
   "cell_type": "code",
   "execution_count": 7,
   "metadata": {},
   "outputs": [],
   "source": [
    "series_list = ['production_budget', 'domestic_gross', 'worldwide_gross']\n",
    "for series in series_list:\n",
    "    for symbol in ['$', ',']:\n",
    "        genres_by_ratings[series] = genres_by_ratings[series].str.replace(symbol,'')\n",
    "    genres_by_ratings[series] = pd.to_numeric(genres_by_ratings[series])"
   ]
  },
  {
   "cell_type": "code",
   "execution_count": 8,
   "metadata": {},
   "outputs": [],
   "source": [
    "genres_by_ratings['genre'] = genres_by_ratings['genres'].str.split(',')\n",
    "genres_by_ratings['genre'] = genres_by_ratings['genre'].str[0]"
   ]
  },
  {
   "cell_type": "markdown",
   "metadata": {},
   "source": [
    "#### Add profit column"
   ]
  },
  {
   "cell_type": "code",
   "execution_count": 9,
   "metadata": {},
   "outputs": [],
   "source": [
    "genres_by_ratings['profit'] = genres_by_ratings['worldwide_gross'] - genres_by_ratings['production_budget']"
   ]
  },
  {
   "cell_type": "code",
   "execution_count": 10,
   "metadata": {},
   "outputs": [],
   "source": [
    "avg_genre_rating = genres_by_ratings.groupby('genre').mean()\n",
    "avg_genre_rating.sort_values(by='averagerating', ascending=False)\n",
    "forplot = avg_genre_rating.drop(columns=['numvotes', 'start_year'])"
   ]
  },
  {
   "cell_type": "code",
   "execution_count": 11,
   "metadata": {},
   "outputs": [],
   "source": [
    "budgets.rename(columns={'movie': 'primary_title'}, inplace=True)"
   ]
  },
  {
   "cell_type": "code",
   "execution_count": null,
   "metadata": {},
   "outputs": [],
   "source": []
  },
  {
   "cell_type": "code",
   "execution_count": 12,
   "metadata": {},
   "outputs": [
    {
     "data": {
      "text/html": [
       "<div>\n",
       "<style scoped>\n",
       "    .dataframe tbody tr th:only-of-type {\n",
       "        vertical-align: middle;\n",
       "    }\n",
       "\n",
       "    .dataframe tbody tr th {\n",
       "        vertical-align: top;\n",
       "    }\n",
       "\n",
       "    .dataframe thead th {\n",
       "        text-align: right;\n",
       "    }\n",
       "</style>\n",
       "<table border=\"1\" class=\"dataframe\">\n",
       "  <thead>\n",
       "    <tr style=\"text-align: right;\">\n",
       "      <th></th>\n",
       "      <th>production_budget</th>\n",
       "      <th>profit</th>\n",
       "      <th>worldwide_gross</th>\n",
       "    </tr>\n",
       "    <tr>\n",
       "      <th>genres</th>\n",
       "      <th></th>\n",
       "      <th></th>\n",
       "      <th></th>\n",
       "    </tr>\n",
       "  </thead>\n",
       "  <tbody>\n",
       "    <tr>\n",
       "      <th>Adventure,Drama,Sci-Fi</th>\n",
       "      <td>1.270000e+08</td>\n",
       "      <td>5.319741e+08</td>\n",
       "      <td>6.589741e+08</td>\n",
       "    </tr>\n",
       "    <tr>\n",
       "      <th>Action,Adventure,Sci-Fi</th>\n",
       "      <td>1.663886e+08</td>\n",
       "      <td>5.234292e+08</td>\n",
       "      <td>6.898177e+08</td>\n",
       "    </tr>\n",
       "    <tr>\n",
       "      <th>Adventure,Fantasy</th>\n",
       "      <td>2.316667e+08</td>\n",
       "      <td>4.695440e+08</td>\n",
       "      <td>7.012107e+08</td>\n",
       "    </tr>\n",
       "    <tr>\n",
       "      <th>Adventure,Family,Fantasy</th>\n",
       "      <td>1.606818e+08</td>\n",
       "      <td>3.744137e+08</td>\n",
       "      <td>5.350955e+08</td>\n",
       "    </tr>\n",
       "    <tr>\n",
       "      <th>Action,Adventure,Comedy</th>\n",
       "      <td>1.102500e+08</td>\n",
       "      <td>3.537390e+08</td>\n",
       "      <td>4.639890e+08</td>\n",
       "    </tr>\n",
       "    <tr>\n",
       "      <th>Action,Adventure,Animation</th>\n",
       "      <td>1.119286e+08</td>\n",
       "      <td>3.250726e+08</td>\n",
       "      <td>4.370011e+08</td>\n",
       "    </tr>\n",
       "    <tr>\n",
       "      <th>Adventure,Drama,Fantasy</th>\n",
       "      <td>5.300000e+07</td>\n",
       "      <td>2.844979e+08</td>\n",
       "      <td>3.374979e+08</td>\n",
       "    </tr>\n",
       "    <tr>\n",
       "      <th>Action,Adventure,Fantasy</th>\n",
       "      <td>1.470200e+08</td>\n",
       "      <td>2.519460e+08</td>\n",
       "      <td>3.989660e+08</td>\n",
       "    </tr>\n",
       "    <tr>\n",
       "      <th>Animation,Comedy,Family</th>\n",
       "      <td>6.800000e+07</td>\n",
       "      <td>2.417190e+08</td>\n",
       "      <td>3.097190e+08</td>\n",
       "    </tr>\n",
       "    <tr>\n",
       "      <th>Drama,Romance,Thriller</th>\n",
       "      <td>3.575000e+07</td>\n",
       "      <td>2.350069e+08</td>\n",
       "      <td>2.707569e+08</td>\n",
       "    </tr>\n",
       "    <tr>\n",
       "      <th>Action,Sci-Fi,Thriller</th>\n",
       "      <td>6.886786e+07</td>\n",
       "      <td>2.327691e+08</td>\n",
       "      <td>3.016370e+08</td>\n",
       "    </tr>\n",
       "    <tr>\n",
       "      <th>Action,Adventure,Thriller</th>\n",
       "      <td>1.411667e+08</td>\n",
       "      <td>2.074254e+08</td>\n",
       "      <td>3.485921e+08</td>\n",
       "    </tr>\n",
       "    <tr>\n",
       "      <th>Drama,Sci-Fi,Thriller</th>\n",
       "      <td>4.283333e+07</td>\n",
       "      <td>2.038301e+08</td>\n",
       "      <td>2.466634e+08</td>\n",
       "    </tr>\n",
       "    <tr>\n",
       "      <th>Action,Adventure,Horror</th>\n",
       "      <td>9.410000e+07</td>\n",
       "      <td>2.026402e+08</td>\n",
       "      <td>2.967402e+08</td>\n",
       "    </tr>\n",
       "    <tr>\n",
       "      <th>Drama,Fantasy,Romance</th>\n",
       "      <td>4.301667e+07</td>\n",
       "      <td>1.954007e+08</td>\n",
       "      <td>2.384174e+08</td>\n",
       "    </tr>\n",
       "    <tr>\n",
       "      <th>Adventure,Animation,Comedy</th>\n",
       "      <td>9.054545e+07</td>\n",
       "      <td>1.909669e+08</td>\n",
       "      <td>2.815124e+08</td>\n",
       "    </tr>\n",
       "    <tr>\n",
       "      <th>Comedy,Music</th>\n",
       "      <td>3.966667e+07</td>\n",
       "      <td>1.800328e+08</td>\n",
       "      <td>2.196994e+08</td>\n",
       "    </tr>\n",
       "    <tr>\n",
       "      <th>Biography,Drama,Music</th>\n",
       "      <td>3.590000e+07</td>\n",
       "      <td>1.748527e+08</td>\n",
       "      <td>2.107527e+08</td>\n",
       "    </tr>\n",
       "    <tr>\n",
       "      <th>Action,Biography,Drama</th>\n",
       "      <td>3.778571e+07</td>\n",
       "      <td>1.692646e+08</td>\n",
       "      <td>2.070503e+08</td>\n",
       "    </tr>\n",
       "    <tr>\n",
       "      <th>Drama,Family</th>\n",
       "      <td>2.825000e+07</td>\n",
       "      <td>1.625257e+08</td>\n",
       "      <td>1.907757e+08</td>\n",
       "    </tr>\n",
       "    <tr>\n",
       "      <th>Action,Adventure,Biography</th>\n",
       "      <td>9.071429e+07</td>\n",
       "      <td>1.586792e+08</td>\n",
       "      <td>2.493935e+08</td>\n",
       "    </tr>\n",
       "    <tr>\n",
       "      <th>Action,Adventure,Family</th>\n",
       "      <td>1.040000e+08</td>\n",
       "      <td>1.548009e+08</td>\n",
       "      <td>2.588009e+08</td>\n",
       "    </tr>\n",
       "    <tr>\n",
       "      <th>Action,Crime,Thriller</th>\n",
       "      <td>6.209412e+07</td>\n",
       "      <td>1.544667e+08</td>\n",
       "      <td>2.165609e+08</td>\n",
       "    </tr>\n",
       "    <tr>\n",
       "      <th>Comedy,Drama,Music</th>\n",
       "      <td>1.592857e+07</td>\n",
       "      <td>1.422059e+08</td>\n",
       "      <td>1.581345e+08</td>\n",
       "    </tr>\n",
       "    <tr>\n",
       "      <th>Action,Horror,Sci-Fi</th>\n",
       "      <td>4.075000e+07</td>\n",
       "      <td>1.415720e+08</td>\n",
       "      <td>1.823220e+08</td>\n",
       "    </tr>\n",
       "  </tbody>\n",
       "</table>\n",
       "</div>"
      ],
      "text/plain": [
       "                            production_budget        profit  worldwide_gross\n",
       "genres                                                                      \n",
       "Adventure,Drama,Sci-Fi           1.270000e+08  5.319741e+08     6.589741e+08\n",
       "Action,Adventure,Sci-Fi          1.663886e+08  5.234292e+08     6.898177e+08\n",
       "Adventure,Fantasy                2.316667e+08  4.695440e+08     7.012107e+08\n",
       "Adventure,Family,Fantasy         1.606818e+08  3.744137e+08     5.350955e+08\n",
       "Action,Adventure,Comedy          1.102500e+08  3.537390e+08     4.639890e+08\n",
       "Action,Adventure,Animation       1.119286e+08  3.250726e+08     4.370011e+08\n",
       "Adventure,Drama,Fantasy          5.300000e+07  2.844979e+08     3.374979e+08\n",
       "Action,Adventure,Fantasy         1.470200e+08  2.519460e+08     3.989660e+08\n",
       "Animation,Comedy,Family          6.800000e+07  2.417190e+08     3.097190e+08\n",
       "Drama,Romance,Thriller           3.575000e+07  2.350069e+08     2.707569e+08\n",
       "Action,Sci-Fi,Thriller           6.886786e+07  2.327691e+08     3.016370e+08\n",
       "Action,Adventure,Thriller        1.411667e+08  2.074254e+08     3.485921e+08\n",
       "Drama,Sci-Fi,Thriller            4.283333e+07  2.038301e+08     2.466634e+08\n",
       "Action,Adventure,Horror          9.410000e+07  2.026402e+08     2.967402e+08\n",
       "Drama,Fantasy,Romance            4.301667e+07  1.954007e+08     2.384174e+08\n",
       "Adventure,Animation,Comedy       9.054545e+07  1.909669e+08     2.815124e+08\n",
       "Comedy,Music                     3.966667e+07  1.800328e+08     2.196994e+08\n",
       "Biography,Drama,Music            3.590000e+07  1.748527e+08     2.107527e+08\n",
       "Action,Biography,Drama           3.778571e+07  1.692646e+08     2.070503e+08\n",
       "Drama,Family                     2.825000e+07  1.625257e+08     1.907757e+08\n",
       "Action,Adventure,Biography       9.071429e+07  1.586792e+08     2.493935e+08\n",
       "Action,Adventure,Family          1.040000e+08  1.548009e+08     2.588009e+08\n",
       "Action,Crime,Thriller            6.209412e+07  1.544667e+08     2.165609e+08\n",
       "Comedy,Drama,Music               1.592857e+07  1.422059e+08     1.581345e+08\n",
       "Action,Horror,Sci-Fi             4.075000e+07  1.415720e+08     1.823220e+08"
      ]
     },
     "execution_count": 12,
     "metadata": {},
     "output_type": "execute_result"
    }
   ],
   "source": [
    "genres_by_ratings = genres_by_ratings[genres_by_ratings.groupby('genres').genres.transform(len) >=3]\n",
    "for_graph = genres_by_ratings.groupby('genres').mean()\n",
    "for_graph = for_graph.loc[:,['production_budget', 'profit', 'worldwide_gross']]\n",
    "for_graph.sort_values(by='profit', ascending=False, inplace=True)\n",
    "for_graph = for_graph.head(25)\n",
    "for_graph"
   ]
  },
  {
   "cell_type": "code",
   "execution_count": 29,
   "metadata": {},
   "outputs": [
    {
     "data": {
      "image/png": "[encoded data removed]",
      "text/plain": [
       "<Figure size 864x576 with 1 Axes>"
      ]
     },
     "metadata": {
      "needs_background": "light"
     },
     "output_type": "display_data"
    }
   ],
   "source": [
    "sns.set_context({'figure.figsize': (12,8)})\n",
    "sns.barplot(x=for_graph.index, y=for_graph.worldwide_gross, color='green', label='Profit').set(title='Top Profit by Genre')\n",
    "sns.barplot(x=for_graph.index, y=for_graph.production_budget, color='purple', label='Budget')\n",
    "plt.xlabel('Genre', fontsize=20)\n",
    "plt.xticks(rotation=30, ha='right')\n",
    "plt.legend(prop={'size': 25});"
   ]
  },
  {
   "cell_type": "code",
   "execution_count": 15,
   "metadata": {},
   "outputs": [],
   "source": [
    "second_graph = genres_by_ratings.groupby('primary_name').mean()\n",
    "second_graph = second_graph.loc[:, ['averagerating', 'profit']]\n",
    "second_graph.sort_values(by='profit', ascending=False, inplace=True)\n",
    "second_graph = second_graph.head(25)"
   ]
  },
  {
   "cell_type": "code",
   "execution_count": 31,
   "metadata": {},
   "outputs": [
    {
     "data": {
      "image/png": "[encoded data removed]",
      "text/plain": [
       "<Figure size 864x576 with 1 Axes>"
      ]
     },
     "metadata": {},
     "output_type": "display_data"
    }
   ],
   "source": [
    "sns.set_style('darkgrid')\n",
    "plt.figure(figsize=(12,8))\n",
    "v = second_graph.averagerating\n",
    "w = second_graph.profit\n",
    "annotations = second_graph.index\n",
    "plt.scatter(v,w)\n",
    "plt.xlabel('Average Rating', fontsize=25)\n",
    "plt.ylabel('Profit (Billions)', fontsize=25)\n",
    "for i, label in enumerate(annotations):\n",
    "    plt.annotate(label, (v.iloc[i]+.05, w.iloc[i]-5000000))\n",
    "plt.show();"
   ]
  },
  {
   "cell_type": "markdown",
   "metadata": {},
   "source": [
    "#### Ratings by Expenditure"
   ]
  },
  {
   "cell_type": "code",
   "execution_count": 21,
   "metadata": {},
   "outputs": [
    {
     "data": {
      "text/html": [
       "<div>\n",
       "<style scoped>\n",
       "    .dataframe tbody tr th:only-of-type {\n",
       "        vertical-align: middle;\n",
       "    }\n",
       "\n",
       "    .dataframe tbody tr th {\n",
       "        vertical-align: top;\n",
       "    }\n",
       "\n",
       "    .dataframe thead th {\n",
       "        text-align: right;\n",
       "    }\n",
       "</style>\n",
       "<table border=\"1\" class=\"dataframe\">\n",
       "  <thead>\n",
       "    <tr style=\"text-align: right;\">\n",
       "      <th></th>\n",
       "      <th>tconst</th>\n",
       "      <th>averagerating</th>\n",
       "      <th>numvotes</th>\n",
       "      <th>primary_title</th>\n",
       "      <th>start_year</th>\n",
       "      <th>genres</th>\n",
       "      <th>nconst</th>\n",
       "      <th>primary_name</th>\n",
       "      <th>primary_profession</th>\n",
       "      <th>release_date</th>\n",
       "      <th>id</th>\n",
       "      <th>production_budget</th>\n",
       "      <th>domestic_gross</th>\n",
       "      <th>worldwide_gross</th>\n",
       "      <th>genre</th>\n",
       "      <th>profit</th>\n",
       "    </tr>\n",
       "  </thead>\n",
       "  <tbody>\n",
       "    <tr>\n",
       "      <th>0</th>\n",
       "      <td>tt1043726</td>\n",
       "      <td>4.2</td>\n",
       "      <td>50352</td>\n",
       "      <td>The Legend of Hercules</td>\n",
       "      <td>2014</td>\n",
       "      <td>Action,Adventure,Fantasy</td>\n",
       "      <td>nm0001317</td>\n",
       "      <td>Renny Harlin</td>\n",
       "      <td>producer,director,writer</td>\n",
       "      <td>2014-01-10</td>\n",
       "      <td>42</td>\n",
       "      <td>70000000</td>\n",
       "      <td>18848538</td>\n",
       "      <td>58953319</td>\n",
       "      <td>Action</td>\n",
       "      <td>-11046681</td>\n",
       "    </tr>\n",
       "    <tr>\n",
       "      <th>1</th>\n",
       "      <td>tt1171222</td>\n",
       "      <td>5.1</td>\n",
       "      <td>8296</td>\n",
       "      <td>Baggage Claim</td>\n",
       "      <td>2013</td>\n",
       "      <td>Comedy</td>\n",
       "      <td>nm0847859</td>\n",
       "      <td>David E. Talbert</td>\n",
       "      <td>writer,director,producer</td>\n",
       "      <td>2013-09-27</td>\n",
       "      <td>38</td>\n",
       "      <td>8500000</td>\n",
       "      <td>21569509</td>\n",
       "      <td>22885836</td>\n",
       "      <td>Comedy</td>\n",
       "      <td>14385836</td>\n",
       "    </tr>\n",
       "    <tr>\n",
       "      <th>2</th>\n",
       "      <td>tt4649416</td>\n",
       "      <td>6.1</td>\n",
       "      <td>5212</td>\n",
       "      <td>Almost Christmas</td>\n",
       "      <td>2016</td>\n",
       "      <td>Comedy,Drama</td>\n",
       "      <td>nm0847859</td>\n",
       "      <td>David E. Talbert</td>\n",
       "      <td>writer,director,producer</td>\n",
       "      <td>2016-11-11</td>\n",
       "      <td>81</td>\n",
       "      <td>17000000</td>\n",
       "      <td>42065185</td>\n",
       "      <td>42493506</td>\n",
       "      <td>Comedy</td>\n",
       "      <td>25493506</td>\n",
       "    </tr>\n",
       "    <tr>\n",
       "      <th>3</th>\n",
       "      <td>tt2179136</td>\n",
       "      <td>7.3</td>\n",
       "      <td>401915</td>\n",
       "      <td>American Sniper</td>\n",
       "      <td>2014</td>\n",
       "      <td>Action,Biography,Drama</td>\n",
       "      <td>nm0000142</td>\n",
       "      <td>Clint Eastwood</td>\n",
       "      <td>actor,producer,director</td>\n",
       "      <td>2014-12-25</td>\n",
       "      <td>57</td>\n",
       "      <td>58000000</td>\n",
       "      <td>350126372</td>\n",
       "      <td>547326372</td>\n",
       "      <td>Action</td>\n",
       "      <td>489326372</td>\n",
       "    </tr>\n",
       "    <tr>\n",
       "      <th>4</th>\n",
       "      <td>tt2179136</td>\n",
       "      <td>7.3</td>\n",
       "      <td>401915</td>\n",
       "      <td>American Sniper</td>\n",
       "      <td>2014</td>\n",
       "      <td>Action,Biography,Drama</td>\n",
       "      <td>nm0000142</td>\n",
       "      <td>Clint Eastwood</td>\n",
       "      <td>actor,producer,director</td>\n",
       "      <td>2014-12-25</td>\n",
       "      <td>57</td>\n",
       "      <td>58000000</td>\n",
       "      <td>350126372</td>\n",
       "      <td>547326372</td>\n",
       "      <td>Action</td>\n",
       "      <td>489326372</td>\n",
       "    </tr>\n",
       "  </tbody>\n",
       "</table>\n",
       "</div>"
      ],
      "text/plain": [
       "      tconst  averagerating  numvotes           primary_title  start_year  \\\n",
       "0  tt1043726            4.2     50352  The Legend of Hercules        2014   \n",
       "1  tt1171222            5.1      8296           Baggage Claim        2013   \n",
       "2  tt4649416            6.1      5212        Almost Christmas        2016   \n",
       "3  tt2179136            7.3    401915         American Sniper        2014   \n",
       "4  tt2179136            7.3    401915         American Sniper        2014   \n",
       "\n",
       "                     genres     nconst      primary_name  \\\n",
       "0  Action,Adventure,Fantasy  nm0001317      Renny Harlin   \n",
       "1                    Comedy  nm0847859  David E. Talbert   \n",
       "2              Comedy,Drama  nm0847859  David E. Talbert   \n",
       "3    Action,Biography,Drama  nm0000142    Clint Eastwood   \n",
       "4    Action,Biography,Drama  nm0000142    Clint Eastwood   \n",
       "\n",
       "         primary_profession release_date  id  production_budget  \\\n",
       "0  producer,director,writer   2014-01-10  42           70000000   \n",
       "1  writer,director,producer   2013-09-27  38            8500000   \n",
       "2  writer,director,producer   2016-11-11  81           17000000   \n",
       "3   actor,producer,director   2014-12-25  57           58000000   \n",
       "4   actor,producer,director   2014-12-25  57           58000000   \n",
       "\n",
       "   domestic_gross  worldwide_gross   genre     profit  \n",
       "0        18848538         58953319  Action  -11046681  \n",
       "1        21569509         22885836  Comedy   14385836  \n",
       "2        42065185         42493506  Comedy   25493506  \n",
       "3       350126372        547326372  Action  489326372  \n",
       "4       350126372        547326372  Action  489326372  "
      ]
     },
     "execution_count": 21,
     "metadata": {},
     "output_type": "execute_result"
    }
   ],
   "source": [
    "genres_by_ratings.head()"
   ]
  },
  {
   "cell_type": "code",
   "execution_count": 23,
   "metadata": {},
   "outputs": [],
   "source": [
    "third_graph = genres_by_ratings.loc[:, ['averagerating', 'production_budget', 'profit']]\n",
    "third_graph['budget_grp'] = None\n",
    "for element in range(len(third_graph.budget_grp)):\n",
    "    if third_graph.production_budget.iloc[element] <= 25000000:\n",
    "        third_graph.budget_grp.iloc[element] = '<=25'\n",
    "    elif third_graph.production_budget.iloc[element] > 25000000 and third_graph.production_budget.iloc[element] <= 50000000:\n",
    "        third_graph.budget_grp.iloc[element] = '<=50'\n",
    "    elif third_graph.production_budget.iloc[element] > 50000000 and third_graph.production_budget.iloc[element] <= 75000000:\n",
    "        third_graph.budget_grp.iloc[element] = '<=75'\n",
    "    elif third_graph.production_budget.iloc[element] > 75000000 and third_graph.production_budget.iloc[element] <= 100000000:\n",
    "        third_graph.budget_grp.iloc[element] = '<=100'\n",
    "    elif third_graph.production_budget.iloc[element] > 100000000 and third_graph.production_budget.iloc[element] <= 125000000:\n",
    "        third_graph.budget_grp.iloc[element] = '<=125'\n",
    "    elif third_graph.production_budget.iloc[element] > 125000000 and third_graph.production_budget.iloc[element] <= 150000000:\n",
    "        third_graph.budget_grp.iloc[element] = '<=150'\n",
    "    elif third_graph.production_budget.iloc[element] > 150000000 and third_graph.production_budget.iloc[element] <= 175000000:\n",
    "        third_graph.budget_grp.iloc[element] = '<=175'\n",
    "    elif third_graph.production_budget.iloc[element] > 175000000 and third_graph.production_budget.iloc[element] <= 200000000:\n",
    "        third_graph.budget_grp.iloc[element] = '<=200'\n",
    "    else:\n",
    "        third_graph.budget_grp.iloc[element] = '>200'"
   ]
  },
  {
   "cell_type": "code",
   "execution_count": 24,
   "metadata": {},
   "outputs": [],
   "source": [
    "third_graph = third_graph.groupby('budget_grp').mean()"
   ]
  },
  {
   "cell_type": "code",
   "execution_count": 25,
   "metadata": {},
   "outputs": [
    {
     "data": {
      "text/html": [
       "<div>\n",
       "<style scoped>\n",
       "    .dataframe tbody tr th:only-of-type {\n",
       "        vertical-align: middle;\n",
       "    }\n",
       "\n",
       "    .dataframe tbody tr th {\n",
       "        vertical-align: top;\n",
       "    }\n",
       "\n",
       "    .dataframe thead th {\n",
       "        text-align: right;\n",
       "    }\n",
       "</style>\n",
       "<table border=\"1\" class=\"dataframe\">\n",
       "  <thead>\n",
       "    <tr style=\"text-align: right;\">\n",
       "      <th></th>\n",
       "      <th>averagerating</th>\n",
       "      <th>production_budget</th>\n",
       "      <th>profit</th>\n",
       "    </tr>\n",
       "    <tr>\n",
       "      <th>budget_grp</th>\n",
       "      <th></th>\n",
       "      <th></th>\n",
       "      <th></th>\n",
       "    </tr>\n",
       "  </thead>\n",
       "  <tbody>\n",
       "    <tr>\n",
       "      <th>25</th>\n",
       "      <td>6.217969</td>\n",
       "      <td>1.083563e+07</td>\n",
       "      <td>2.418234e+07</td>\n",
       "    </tr>\n",
       "    <tr>\n",
       "      <th>50</th>\n",
       "      <td>6.403125</td>\n",
       "      <td>3.719727e+07</td>\n",
       "      <td>6.251479e+07</td>\n",
       "    </tr>\n",
       "    <tr>\n",
       "      <th>75</th>\n",
       "      <td>6.267021</td>\n",
       "      <td>6.181489e+07</td>\n",
       "      <td>1.054197e+08</td>\n",
       "    </tr>\n",
       "    <tr>\n",
       "      <th>100</th>\n",
       "      <td>6.132836</td>\n",
       "      <td>8.994030e+07</td>\n",
       "      <td>1.579318e+08</td>\n",
       "    </tr>\n",
       "    <tr>\n",
       "      <th>125</th>\n",
       "      <td>6.527778</td>\n",
       "      <td>1.150278e+08</td>\n",
       "      <td>2.508103e+08</td>\n",
       "    </tr>\n",
       "    <tr>\n",
       "      <th>150</th>\n",
       "      <td>6.539024</td>\n",
       "      <td>1.384878e+08</td>\n",
       "      <td>2.434726e+08</td>\n",
       "    </tr>\n",
       "    <tr>\n",
       "      <th>175</th>\n",
       "      <td>6.853846</td>\n",
       "      <td>1.654615e+08</td>\n",
       "      <td>4.635029e+08</td>\n",
       "    </tr>\n",
       "    <tr>\n",
       "      <th>200</th>\n",
       "      <td>7.103125</td>\n",
       "      <td>1.896562e+08</td>\n",
       "      <td>4.716546e+08</td>\n",
       "    </tr>\n",
       "    <tr>\n",
       "      <th>200</th>\n",
       "      <td>6.857143</td>\n",
       "      <td>2.603905e+08</td>\n",
       "      <td>6.378738e+08</td>\n",
       "    </tr>\n",
       "  </tbody>\n",
       "</table>\n",
       "</div>"
      ],
      "text/plain": [
       "            averagerating  production_budget        profit\n",
       "budget_grp                                                \n",
       "25               6.217969       1.083563e+07  2.418234e+07\n",
       "50               6.403125       3.719727e+07  6.251479e+07\n",
       "75               6.267021       6.181489e+07  1.054197e+08\n",
       "100              6.132836       8.994030e+07  1.579318e+08\n",
       "125              6.527778       1.150278e+08  2.508103e+08\n",
       "150              6.539024       1.384878e+08  2.434726e+08\n",
       "175              6.853846       1.654615e+08  4.635029e+08\n",
       "200              7.103125       1.896562e+08  4.716546e+08\n",
       "200              6.857143       2.603905e+08  6.378738e+08"
      ]
     },
     "execution_count": 25,
     "metadata": {},
     "output_type": "execute_result"
    }
   ],
   "source": [
    "#plt.bar(t, u)\n",
    "for symbol in ['<', '=', '>']:\n",
    "    third_graph.index = third_graph.index.str.replace(symbol, '')\n",
    "third_graph.index = pd.to_numeric(third_graph.index)\n",
    "third_graph.sort_values(by='budget_grp')"
   ]
  },
  {
   "cell_type": "code",
   "execution_count": 26,
   "metadata": {},
   "outputs": [
    {
     "data": {
      "text/plain": [
       "<AxesSubplot:xlabel='budget_grp', ylabel='averagerating'>"
      ]
     },
     "execution_count": 26,
     "metadata": {},
     "output_type": "execute_result"
    },
    {
     "data": {
      "image/png": "[encoded data removed]",
      "text/plain": [
       "<Figure size 864x576 with 1 Axes>"
      ]
     },
     "metadata": {
      "needs_background": "light"
     },
     "output_type": "display_data"
    }
   ],
   "source": [
    "sns.set_context({'figure.figsize': (12,8)})\n",
    "sns.barplot(x=third_graph.index, y=third_graph.averagerating, color='blue')"
   ]
  },
  {
   "cell_type": "code",
   "execution_count": null,
   "metadata": {},
   "outputs": [],
   "source": []
  }
 ],
 "metadata": {
  "kernelspec": {
   "display_name": "Python 3",
   "language": "python",
   "name": "python3"
  },
  "language_info": {
   "codemirror_mode": {
    "name": "ipython",
    "version": 3
   },
   "file_extension": ".py",
   "mimetype": "text/x-python",
   "name": "python",
   "nbconvert_exporter": "python",
   "pygments_lexer": "ipython3",
   "version": "3.8.5"
  }
 },
 "nbformat": 4,
 "nbformat_minor": 4
}

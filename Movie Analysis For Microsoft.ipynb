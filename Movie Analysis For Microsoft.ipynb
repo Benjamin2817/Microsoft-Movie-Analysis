{
 "cells": [
  {
   "cell_type": "markdown",
   "metadata": {},
   "source": [
    "# Movie Analysis for Microsoft\n",
    "\n",
    "**Author:** Benjamin Dean\n",
    "***"
   ]
  },
  {
   "cell_type": "markdown",
   "metadata": {},
   "source": [
    "## Project Overview\n",
    "\n",
    "Students were given a scenario in which Microsoft has decided to begin their own movie studio and is looking for advice on how to do so. This project begins with exploratory data analysis and determines profit and ratings to be the target dependant variables. Data is then cleaned, merged, and modeled. Visualizations were made comparing different variables to the target variables. Finally, analysis suggests Microsoft take a number of actions in reference to genres, directors, and production budgets in order to build a successful movie portfolio"
   ]
  },
  {
   "cell_type": "markdown",
   "metadata": {},
   "source": [
    "### Business Problem"
   ]
  },
  {
   "cell_type": "markdown",
   "metadata": {},
   "source": [
    "## Data Understanding\n",
    "\n",
    "We perform exploratory data analysis on six dataframes provided by Contain movies from the "
   ]
  },
  {
   "cell_type": "markdown",
   "metadata": {},
   "source": [
    "#### Import Libraries"
   ]
  },
  {
   "cell_type": "code",
   "execution_count": 1,
   "metadata": {},
   "outputs": [],
   "source": [
    "import pandas as pd\n",
    "import numpy as np\n",
    "import matplotlib.pyplot as plt\n",
    "import seaborn as sns\n",
    "\n",
    "%matplotlib inline\n",
    "pd.set_option('display.max_rows', 100)"
   ]
  },
  {
   "cell_type": "markdown",
   "metadata": {},
   "source": [
    "#### Import datasets"
   ]
  },
  {
   "cell_type": "code",
   "execution_count": 2,
   "metadata": {},
   "outputs": [],
   "source": [
    "ratings = pd.read_csv('data/zippedData/imdb.title.ratings.csv.gz')\n",
    "basics = pd.read_csv('data/zippedData/imdb.title.basics.csv.gz')\n",
    "directors = pd.read_csv('data/zippedData/imdb.title.crew.csv.gz')\n",
    "names = pd.read_csv('data/zippedData/imdb.name.basics.csv.gz')\n",
    "releases = pd.read_csv('data/zippedData/tmdb.movies.csv.gz')\n",
    "budgets = pd.read_csv('data/zippedData/tn.movie_budgets.csv.gz')"
   ]
  },
  {
   "cell_type": "markdown",
   "metadata": {},
   "source": [
    "## Data Preparation"
   ]
  },
  {
   "cell_type": "markdown",
   "metadata": {},
   "source": [
    "#### Remove unwanted columns and rows"
   ]
  },
  {
   "cell_type": "code",
   "execution_count": 3,
   "metadata": {},
   "outputs": [],
   "source": [
    "ratings = ratings.drop(ratings[ratings.numvotes < 100].index)\n",
    "names = names[names['primary_profession'].str.contains('director', na=False)]\n",
    "names.drop(columns = ['birth_year', 'death_year', 'known_for_titles'], inplace=True)\n",
    "basics.drop(columns = ['original_title', 'runtime_minutes'], inplace=True)\n",
    "directors.drop(columns = 'writers', inplace=True)\n",
    "releases.drop(columns = ['genre_ids', 'id', 'original_language', 'popularity',\\\n",
    "                         'original_title', 'vote_average', 'vote_count'], inplace=True)"
   ]
  },
  {
   "cell_type": "markdown",
   "metadata": {},
   "source": [
    "#### Rename columns to allow for dataset merging"
   ]
  },
  {
   "cell_type": "code",
   "execution_count": 4,
   "metadata": {},
   "outputs": [],
   "source": [
    "directors.rename(columns={'directors': 'nconst'}, inplace=True)\n",
    "releases.rename(columns={'title': 'primary_title'}, inplace=True)\n",
    "budgets.rename(columns={'movie': 'primary_title'}, inplace=True)"
   ]
  },
  {
   "cell_type": "code",
   "execution_count": 5,
   "metadata": {},
   "outputs": [],
   "source": [
    "releases.release_date = pd.to_datetime(releases.release_date)\n",
    "budgets.release_date = pd.to_datetime(budgets.release_date)"
   ]
  },
  {
   "cell_type": "markdown",
   "metadata": {},
   "source": [
    "#### Merge datasets"
   ]
  },
  {
   "cell_type": "code",
   "execution_count": 6,
   "metadata": {},
   "outputs": [],
   "source": [
    "genres_by_ratings = pd.merge(ratings, basics, on='tconst')\\\n",
    "                      .merge(directors, on='tconst')\\\n",
    "                      .merge(names, on='nconst')\\\n",
    "                      .merge(releases, on='primary_title' )\\\n",
    "                      .merge(budgets, on=['primary_title', 'release_date'])"
   ]
  },
  {
   "cell_type": "markdown",
   "metadata": {},
   "source": [
    "#### Remove unwanted characters in order to make values convertable to intergers"
   ]
  },
  {
   "cell_type": "code",
   "execution_count": 7,
   "metadata": {},
   "outputs": [],
   "source": [
    "series_list = ['production_budget', 'domestic_gross', 'worldwide_gross']\n",
    "for series in series_list:\n",
    "    for symbol in ['$', ',']:\n",
    "        genres_by_ratings[series] = genres_by_ratings[series].str.replace(symbol,'')\n",
    "    genres_by_ratings[series] = pd.to_numeric(genres_by_ratings[series])"
   ]
  },
  {
   "cell_type": "markdown",
   "metadata": {},
   "source": [
    "#### Add profit column"
   ]
  },
  {
   "cell_type": "code",
   "execution_count": 8,
   "metadata": {},
   "outputs": [],
   "source": [
    "genres_by_ratings['profit'] = genres_by_ratings['worldwide_gross'] - genres_by_ratings['production_budget']"
   ]
  },
  {
   "cell_type": "code",
   "execution_count": 9,
   "metadata": {},
   "outputs": [],
   "source": [
    "budgets.rename(columns={'movie': 'primary_title'}, inplace=True)"
   ]
  },
  {
   "cell_type": "code",
   "execution_count": 10,
   "metadata": {},
   "outputs": [
    {
     "data": {
      "text/html": [
       "<div>\n",
       "<style scoped>\n",
       "    .dataframe tbody tr th:only-of-type {\n",
       "        vertical-align: middle;\n",
       "    }\n",
       "\n",
       "    .dataframe tbody tr th {\n",
       "        vertical-align: top;\n",
       "    }\n",
       "\n",
       "    .dataframe thead th {\n",
       "        text-align: right;\n",
       "    }\n",
       "</style>\n",
       "<table border=\"1\" class=\"dataframe\">\n",
       "  <thead>\n",
       "    <tr style=\"text-align: right;\">\n",
       "      <th></th>\n",
       "      <th>production_budget</th>\n",
       "      <th>profit</th>\n",
       "      <th>worldwide_gross</th>\n",
       "    </tr>\n",
       "    <tr>\n",
       "      <th>genres</th>\n",
       "      <th></th>\n",
       "      <th></th>\n",
       "      <th></th>\n",
       "    </tr>\n",
       "  </thead>\n",
       "  <tbody>\n",
       "    <tr>\n",
       "      <th>Adventure,Drama,Sci-Fi</th>\n",
       "      <td>1.270000e+08</td>\n",
       "      <td>5.319741e+08</td>\n",
       "      <td>6.589741e+08</td>\n",
       "    </tr>\n",
       "    <tr>\n",
       "      <th>Action,Adventure,Sci-Fi</th>\n",
       "      <td>1.663886e+08</td>\n",
       "      <td>5.234292e+08</td>\n",
       "      <td>6.898177e+08</td>\n",
       "    </tr>\n",
       "    <tr>\n",
       "      <th>Adventure,Fantasy</th>\n",
       "      <td>2.316667e+08</td>\n",
       "      <td>4.695440e+08</td>\n",
       "      <td>7.012107e+08</td>\n",
       "    </tr>\n",
       "    <tr>\n",
       "      <th>Adventure,Family,Fantasy</th>\n",
       "      <td>1.606818e+08</td>\n",
       "      <td>3.744137e+08</td>\n",
       "      <td>5.350955e+08</td>\n",
       "    </tr>\n",
       "    <tr>\n",
       "      <th>Action,Adventure,Comedy</th>\n",
       "      <td>1.102500e+08</td>\n",
       "      <td>3.537390e+08</td>\n",
       "      <td>4.639890e+08</td>\n",
       "    </tr>\n",
       "  </tbody>\n",
       "</table>\n",
       "</div>"
      ],
      "text/plain": [
       "                          production_budget        profit  worldwide_gross\n",
       "genres                                                                    \n",
       "Adventure,Drama,Sci-Fi         1.270000e+08  5.319741e+08     6.589741e+08\n",
       "Action,Adventure,Sci-Fi        1.663886e+08  5.234292e+08     6.898177e+08\n",
       "Adventure,Fantasy              2.316667e+08  4.695440e+08     7.012107e+08\n",
       "Adventure,Family,Fantasy       1.606818e+08  3.744137e+08     5.350955e+08\n",
       "Action,Adventure,Comedy        1.102500e+08  3.537390e+08     4.639890e+08"
      ]
     },
     "execution_count": 10,
     "metadata": {},
     "output_type": "execute_result"
    }
   ],
   "source": [
    "genres_by_ratings = genres_by_ratings[genres_by_ratings.groupby('genres').genres.transform(len) >=3]\n",
    "for_graph = genres_by_ratings.groupby('genres').mean()\n",
    "for_graph = for_graph.loc[:,['production_budget', 'profit', 'worldwide_gross']]\n",
    "for_graph.sort_values(by='profit', ascending=False, inplace=True)\n",
    "for_graph = for_graph.head(25)\n",
    "for_graph.head()"
   ]
  },
  {
   "cell_type": "code",
   "execution_count": 11,
   "metadata": {},
   "outputs": [
    {
     "data": {
      "image/png": "[encoded data removed]",
      "text/plain": [
       "<Figure size 864x576 with 1 Axes>"
      ]
     },
     "metadata": {
      "needs_background": "light"
     },
     "output_type": "display_data"
    }
   ],
   "source": [
    "sns.set_context({'figure.figsize': (12,8)})\n",
    "sns.barplot(x=for_graph.index, y=for_graph.worldwide_gross, color='green', label='Profit').set(title='Top Profit by Genre')\n",
    "sns.barplot(x=for_graph.index, y=for_graph.production_budget, color='purple', label='Budget')\n",
    "plt.xlabel('Genre', fontsize=20)\n",
    "plt.ylabel(\"Budget and Profit (100s of Millions)\", fontsize=20)\n",
    "plt.xticks(rotation=30, ha='right')\n",
    "plt.legend(prop={'size': 25});"
   ]
  },
  {
   "cell_type": "code",
   "execution_count": 12,
   "metadata": {},
   "outputs": [],
   "source": [
    "second_graph = genres_by_ratings.groupby('primary_name').mean()\n",
    "second_graph = second_graph.loc[:, ['averagerating', 'profit']]\n",
    "second_graph.sort_values(by='profit', ascending=False, inplace=True)\n",
    "second_graph = second_graph.head(25)"
   ]
  },
  {
   "cell_type": "code",
   "execution_count": 13,
   "metadata": {
    "scrolled": true
   },
   "outputs": [
    {
     "data": {
      "image/png": "[encoded data removed]",
      "text/plain": [
       "<Figure size 864x576 with 1 Axes>"
      ]
     },
     "metadata": {},
     "output_type": "display_data"
    }
   ],
   "source": [
    "sns.set_style('darkgrid')\n",
    "plt.figure(figsize=(12,8))\n",
    "v = second_graph.averagerating\n",
    "w = second_graph.profit\n",
    "annotations = second_graph.index\n",
    "plt.scatter(v,w)\n",
    "plt.xlabel('Average Rating', fontsize=20)\n",
    "plt.ylabel('Profit (Billions)', fontsize=20)\n",
    "for i, label in enumerate(annotations):\n",
    "    plt.annotate(label, (v.iloc[i]+.05, w.iloc[i]-5000000))\n",
    "plt.show();"
   ]
  },
  {
   "cell_type": "markdown",
   "metadata": {},
   "source": [
    "#### Ratings by Expenditure"
   ]
  },
  {
   "cell_type": "code",
   "execution_count": 14,
   "metadata": {},
   "outputs": [
    {
     "data": {
      "text/html": [
       "<div>\n",
       "<style scoped>\n",
       "    .dataframe tbody tr th:only-of-type {\n",
       "        vertical-align: middle;\n",
       "    }\n",
       "\n",
       "    .dataframe tbody tr th {\n",
       "        vertical-align: top;\n",
       "    }\n",
       "\n",
       "    .dataframe thead th {\n",
       "        text-align: right;\n",
       "    }\n",
       "</style>\n",
       "<table border=\"1\" class=\"dataframe\">\n",
       "  <thead>\n",
       "    <tr style=\"text-align: right;\">\n",
       "      <th></th>\n",
       "      <th>tconst</th>\n",
       "      <th>averagerating</th>\n",
       "      <th>numvotes</th>\n",
       "      <th>primary_title</th>\n",
       "      <th>start_year</th>\n",
       "      <th>genres</th>\n",
       "      <th>nconst</th>\n",
       "      <th>primary_name</th>\n",
       "      <th>primary_profession</th>\n",
       "      <th>release_date</th>\n",
       "      <th>id</th>\n",
       "      <th>production_budget</th>\n",
       "      <th>domestic_gross</th>\n",
       "      <th>worldwide_gross</th>\n",
       "      <th>profit</th>\n",
       "    </tr>\n",
       "  </thead>\n",
       "  <tbody>\n",
       "    <tr>\n",
       "      <th>0</th>\n",
       "      <td>tt1043726</td>\n",
       "      <td>4.2</td>\n",
       "      <td>50352</td>\n",
       "      <td>The Legend of Hercules</td>\n",
       "      <td>2014</td>\n",
       "      <td>Action,Adventure,Fantasy</td>\n",
       "      <td>nm0001317</td>\n",
       "      <td>Renny Harlin</td>\n",
       "      <td>producer,director,writer</td>\n",
       "      <td>2014-01-10</td>\n",
       "      <td>42</td>\n",
       "      <td>70000000</td>\n",
       "      <td>18848538</td>\n",
       "      <td>58953319</td>\n",
       "      <td>-11046681</td>\n",
       "    </tr>\n",
       "    <tr>\n",
       "      <th>1</th>\n",
       "      <td>tt1171222</td>\n",
       "      <td>5.1</td>\n",
       "      <td>8296</td>\n",
       "      <td>Baggage Claim</td>\n",
       "      <td>2013</td>\n",
       "      <td>Comedy</td>\n",
       "      <td>nm0847859</td>\n",
       "      <td>David E. Talbert</td>\n",
       "      <td>writer,director,producer</td>\n",
       "      <td>2013-09-27</td>\n",
       "      <td>38</td>\n",
       "      <td>8500000</td>\n",
       "      <td>21569509</td>\n",
       "      <td>22885836</td>\n",
       "      <td>14385836</td>\n",
       "    </tr>\n",
       "    <tr>\n",
       "      <th>2</th>\n",
       "      <td>tt4649416</td>\n",
       "      <td>6.1</td>\n",
       "      <td>5212</td>\n",
       "      <td>Almost Christmas</td>\n",
       "      <td>2016</td>\n",
       "      <td>Comedy,Drama</td>\n",
       "      <td>nm0847859</td>\n",
       "      <td>David E. Talbert</td>\n",
       "      <td>writer,director,producer</td>\n",
       "      <td>2016-11-11</td>\n",
       "      <td>81</td>\n",
       "      <td>17000000</td>\n",
       "      <td>42065185</td>\n",
       "      <td>42493506</td>\n",
       "      <td>25493506</td>\n",
       "    </tr>\n",
       "    <tr>\n",
       "      <th>3</th>\n",
       "      <td>tt2179136</td>\n",
       "      <td>7.3</td>\n",
       "      <td>401915</td>\n",
       "      <td>American Sniper</td>\n",
       "      <td>2014</td>\n",
       "      <td>Action,Biography,Drama</td>\n",
       "      <td>nm0000142</td>\n",
       "      <td>Clint Eastwood</td>\n",
       "      <td>actor,producer,director</td>\n",
       "      <td>2014-12-25</td>\n",
       "      <td>57</td>\n",
       "      <td>58000000</td>\n",
       "      <td>350126372</td>\n",
       "      <td>547326372</td>\n",
       "      <td>489326372</td>\n",
       "    </tr>\n",
       "    <tr>\n",
       "      <th>4</th>\n",
       "      <td>tt2179136</td>\n",
       "      <td>7.3</td>\n",
       "      <td>401915</td>\n",
       "      <td>American Sniper</td>\n",
       "      <td>2014</td>\n",
       "      <td>Action,Biography,Drama</td>\n",
       "      <td>nm0000142</td>\n",
       "      <td>Clint Eastwood</td>\n",
       "      <td>actor,producer,director</td>\n",
       "      <td>2014-12-25</td>\n",
       "      <td>57</td>\n",
       "      <td>58000000</td>\n",
       "      <td>350126372</td>\n",
       "      <td>547326372</td>\n",
       "      <td>489326372</td>\n",
       "    </tr>\n",
       "  </tbody>\n",
       "</table>\n",
       "</div>"
      ],
      "text/plain": [
       "      tconst  averagerating  numvotes           primary_title  start_year  \\\n",
       "0  tt1043726            4.2     50352  The Legend of Hercules        2014   \n",
       "1  tt1171222            5.1      8296           Baggage Claim        2013   \n",
       "2  tt4649416            6.1      5212        Almost Christmas        2016   \n",
       "3  tt2179136            7.3    401915         American Sniper        2014   \n",
       "4  tt2179136            7.3    401915         American Sniper        2014   \n",
       "\n",
       "                     genres     nconst      primary_name  \\\n",
       "0  Action,Adventure,Fantasy  nm0001317      Renny Harlin   \n",
       "1                    Comedy  nm0847859  David E. Talbert   \n",
       "2              Comedy,Drama  nm0847859  David E. Talbert   \n",
       "3    Action,Biography,Drama  nm0000142    Clint Eastwood   \n",
       "4    Action,Biography,Drama  nm0000142    Clint Eastwood   \n",
       "\n",
       "         primary_profession release_date  id  production_budget  \\\n",
       "0  producer,director,writer   2014-01-10  42           70000000   \n",
       "1  writer,director,producer   2013-09-27  38            8500000   \n",
       "2  writer,director,producer   2016-11-11  81           17000000   \n",
       "3   actor,producer,director   2014-12-25  57           58000000   \n",
       "4   actor,producer,director   2014-12-25  57           58000000   \n",
       "\n",
       "   domestic_gross  worldwide_gross     profit  \n",
       "0        18848538         58953319  -11046681  \n",
       "1        21569509         22885836   14385836  \n",
       "2        42065185         42493506   25493506  \n",
       "3       350126372        547326372  489326372  \n",
       "4       350126372        547326372  489326372  "
      ]
     },
     "execution_count": 14,
     "metadata": {},
     "output_type": "execute_result"
    }
   ],
   "source": [
    "genres_by_ratings.head()"
   ]
  },
  {
   "cell_type": "code",
   "execution_count": 47,
   "metadata": {},
   "outputs": [],
   "source": [
    "third_graph = genres_by_ratings.loc[:, ['averagerating', 'production_budget', 'profit']]\n",
    "third_graph['budget_grp'] = None\n",
    "for element in range(len(third_graph.budget_grp)):\n",
    "    if third_graph.production_budget.iloc[element] <= 25000000:\n",
    "        third_graph.budget_grp.iloc[element] = '<=25'\n",
    "    elif third_graph.production_budget.iloc[element] > 25000000 and third_graph.production_budget.iloc[element] <= 50000000:\n",
    "        third_graph.budget_grp.iloc[element] = '<=50'\n",
    "    elif third_graph.production_budget.iloc[element] > 50000000 and third_graph.production_budget.iloc[element] <= 75000000:\n",
    "        third_graph.budget_grp.iloc[element] = '<=75'\n",
    "    elif third_graph.production_budget.iloc[element] > 75000000 and third_graph.production_budget.iloc[element] <= 100000000:\n",
    "        third_graph.budget_grp.iloc[element] = '<=100'\n",
    "    elif third_graph.production_budget.iloc[element] > 100000000 and third_graph.production_budget.iloc[element] <= 125000000:\n",
    "        third_graph.budget_grp.iloc[element] = '<=125'\n",
    "    elif third_graph.production_budget.iloc[element] > 125000000 and third_graph.production_budget.iloc[element] <= 150000000:\n",
    "        third_graph.budget_grp.iloc[element] = '<=150'\n",
    "    elif third_graph.production_budget.iloc[element] > 150000000 and third_graph.production_budget.iloc[element] <= 175000000:\n",
    "        third_graph.budget_grp.iloc[element] = '<=175'\n",
    "    elif third_graph.production_budget.iloc[element] > 175000000 and third_graph.production_budget.iloc[element] <= 200000000:\n",
    "        third_graph.budget_grp.iloc[element] = '<=200'\n",
    "    else:\n",
    "        third_graph.budget_grp.iloc[element] = '>200'"
   ]
  },
  {
   "cell_type": "code",
   "execution_count": 36,
   "metadata": {},
   "outputs": [
    {
     "data": {
      "text/plain": [
       "count    1084.000000\n",
       "mean        6.334779\n",
       "std         1.014056\n",
       "min         2.100000\n",
       "25%         5.775000\n",
       "50%         6.400000\n",
       "75%         7.100000\n",
       "max         8.800000\n",
       "Name: averagerating, dtype: float64"
      ]
     },
     "execution_count": 36,
     "metadata": {},
     "output_type": "execute_result"
    }
   ],
   "source": [
    "third_graph.averagerating.describe()"
   ]
  },
  {
   "cell_type": "code",
   "execution_count": 32,
   "metadata": {},
   "outputs": [],
   "source": [
    "twentyfive_mil = third_graph.loc[third_graph['budget_grp'] == '<=25']\n",
    "above_std = twentyfive_mil.averagerating.mean() + (twentyfive_mil.averagerating.std())*2\n",
    "below_std = twentyfive_mil.averagerating.mean() - (twentyfive_mil.averagerating.std())*2"
   ]
  },
  {
   "cell_type": "code",
   "execution_count": 44,
   "metadata": {},
   "outputs": [],
   "source": [
    "within_2_std = twentyfive_mil[(twentyfive_mil.averagerating <= above_std) & (twentyfive_mil.averagerating >= below_std)]"
   ]
  },
  {
   "cell_type": "code",
   "execution_count": 45,
   "metadata": {},
   "outputs": [
    {
     "data": {
      "text/html": [
       "<div>\n",
       "<style scoped>\n",
       "    .dataframe tbody tr th:only-of-type {\n",
       "        vertical-align: middle;\n",
       "    }\n",
       "\n",
       "    .dataframe tbody tr th {\n",
       "        vertical-align: top;\n",
       "    }\n",
       "\n",
       "    .dataframe thead th {\n",
       "        text-align: right;\n",
       "    }\n",
       "</style>\n",
       "<table border=\"1\" class=\"dataframe\">\n",
       "  <thead>\n",
       "    <tr style=\"text-align: right;\">\n",
       "      <th></th>\n",
       "      <th>averagerating</th>\n",
       "      <th>production_budget</th>\n",
       "      <th>profit</th>\n",
       "    </tr>\n",
       "  </thead>\n",
       "  <tbody>\n",
       "    <tr>\n",
       "      <th>count</th>\n",
       "      <td>541.000000</td>\n",
       "      <td>5.410000e+02</td>\n",
       "      <td>5.410000e+02</td>\n",
       "    </tr>\n",
       "    <tr>\n",
       "      <th>mean</th>\n",
       "      <td>6.314233</td>\n",
       "      <td>1.104890e+07</td>\n",
       "      <td>2.604661e+07</td>\n",
       "    </tr>\n",
       "    <tr>\n",
       "      <th>std</th>\n",
       "      <td>0.938715</td>\n",
       "      <td>7.839194e+06</td>\n",
       "      <td>5.402531e+07</td>\n",
       "    </tr>\n",
       "    <tr>\n",
       "      <th>min</th>\n",
       "      <td>4.100000</td>\n",
       "      <td>3.000000e+04</td>\n",
       "      <td>-2.485385e+07</td>\n",
       "    </tr>\n",
       "    <tr>\n",
       "      <th>25%</th>\n",
       "      <td>5.700000</td>\n",
       "      <td>4.000000e+06</td>\n",
       "      <td>-1.493763e+06</td>\n",
       "    </tr>\n",
       "    <tr>\n",
       "      <th>50%</th>\n",
       "      <td>6.400000</td>\n",
       "      <td>1.000000e+07</td>\n",
       "      <td>7.618727e+06</td>\n",
       "    </tr>\n",
       "    <tr>\n",
       "      <th>75%</th>\n",
       "      <td>7.000000</td>\n",
       "      <td>1.800000e+07</td>\n",
       "      <td>3.104352e+07</td>\n",
       "    </tr>\n",
       "    <tr>\n",
       "      <th>max</th>\n",
       "      <td>8.300000</td>\n",
       "      <td>2.500000e+07</td>\n",
       "      <td>4.063512e+08</td>\n",
       "    </tr>\n",
       "  </tbody>\n",
       "</table>\n",
       "</div>"
      ],
      "text/plain": [
       "       averagerating  production_budget        profit\n",
       "count     541.000000       5.410000e+02  5.410000e+02\n",
       "mean        6.314233       1.104890e+07  2.604661e+07\n",
       "std         0.938715       7.839194e+06  5.402531e+07\n",
       "min         4.100000       3.000000e+04 -2.485385e+07\n",
       "25%         5.700000       4.000000e+06 -1.493763e+06\n",
       "50%         6.400000       1.000000e+07  7.618727e+06\n",
       "75%         7.000000       1.800000e+07  3.104352e+07\n",
       "max         8.300000       2.500000e+07  4.063512e+08"
      ]
     },
     "execution_count": 45,
     "metadata": {},
     "output_type": "execute_result"
    }
   ],
   "source": [
    "within_2_std.describe()"
   ]
  },
  {
   "cell_type": "code",
   "execution_count": 21,
   "metadata": {},
   "outputs": [
    {
     "data": {
      "text/plain": [
       "<=25     563\n",
       "<=50     232\n",
       "<=75      85\n",
       "<=100     56\n",
       "<=150     38\n",
       "<=125     33\n",
       "<=200     31\n",
       "<=175     25\n",
       ">200      21\n",
       "Name: budget_grp, dtype: int64"
      ]
     },
     "execution_count": 21,
     "metadata": {},
     "output_type": "execute_result"
    }
   ],
   "source": [
    "third_graph.budget_grp.value_counts()"
   ]
  },
  {
   "cell_type": "code",
   "execution_count": 18,
   "metadata": {},
   "outputs": [],
   "source": [
    "third_graph = third_graph.groupby('budget_grp').mean()"
   ]
  },
  {
   "cell_type": "code",
   "execution_count": 19,
   "metadata": {},
   "outputs": [
    {
     "data": {
      "text/html": [
       "<div>\n",
       "<style scoped>\n",
       "    .dataframe tbody tr th:only-of-type {\n",
       "        vertical-align: middle;\n",
       "    }\n",
       "\n",
       "    .dataframe tbody tr th {\n",
       "        vertical-align: top;\n",
       "    }\n",
       "\n",
       "    .dataframe thead th {\n",
       "        text-align: right;\n",
       "    }\n",
       "</style>\n",
       "<table border=\"1\" class=\"dataframe\">\n",
       "  <thead>\n",
       "    <tr style=\"text-align: right;\">\n",
       "      <th></th>\n",
       "      <th>averagerating</th>\n",
       "      <th>production_budget</th>\n",
       "      <th>profit</th>\n",
       "    </tr>\n",
       "    <tr>\n",
       "      <th>budget_grp</th>\n",
       "      <th></th>\n",
       "      <th></th>\n",
       "      <th></th>\n",
       "    </tr>\n",
       "  </thead>\n",
       "  <tbody>\n",
       "    <tr>\n",
       "      <th>25</th>\n",
       "      <td>6.225222</td>\n",
       "      <td>1.100675e+07</td>\n",
       "      <td>2.618037e+07</td>\n",
       "    </tr>\n",
       "    <tr>\n",
       "      <th>50</th>\n",
       "      <td>6.418534</td>\n",
       "      <td>3.711422e+07</td>\n",
       "      <td>6.456653e+07</td>\n",
       "    </tr>\n",
       "    <tr>\n",
       "      <th>75</th>\n",
       "      <td>6.260000</td>\n",
       "      <td>6.169882e+07</td>\n",
       "      <td>1.138410e+08</td>\n",
       "    </tr>\n",
       "    <tr>\n",
       "      <th>100</th>\n",
       "      <td>6.092857</td>\n",
       "      <td>9.058929e+07</td>\n",
       "      <td>1.577862e+08</td>\n",
       "    </tr>\n",
       "    <tr>\n",
       "      <th>125</th>\n",
       "      <td>6.530303</td>\n",
       "      <td>1.145758e+08</td>\n",
       "      <td>2.558814e+08</td>\n",
       "    </tr>\n",
       "    <tr>\n",
       "      <th>150</th>\n",
       "      <td>6.573684</td>\n",
       "      <td>1.382632e+08</td>\n",
       "      <td>2.525694e+08</td>\n",
       "    </tr>\n",
       "    <tr>\n",
       "      <th>175</th>\n",
       "      <td>6.840000</td>\n",
       "      <td>1.656800e+08</td>\n",
       "      <td>4.380750e+08</td>\n",
       "    </tr>\n",
       "    <tr>\n",
       "      <th>200</th>\n",
       "      <td>7.077419</td>\n",
       "      <td>1.900323e+08</td>\n",
       "      <td>4.806583e+08</td>\n",
       "    </tr>\n",
       "    <tr>\n",
       "      <th>200</th>\n",
       "      <td>6.857143</td>\n",
       "      <td>2.603905e+08</td>\n",
       "      <td>6.378738e+08</td>\n",
       "    </tr>\n",
       "  </tbody>\n",
       "</table>\n",
       "</div>"
      ],
      "text/plain": [
       "            averagerating  production_budget        profit\n",
       "budget_grp                                                \n",
       "25               6.225222       1.100675e+07  2.618037e+07\n",
       "50               6.418534       3.711422e+07  6.456653e+07\n",
       "75               6.260000       6.169882e+07  1.138410e+08\n",
       "100              6.092857       9.058929e+07  1.577862e+08\n",
       "125              6.530303       1.145758e+08  2.558814e+08\n",
       "150              6.573684       1.382632e+08  2.525694e+08\n",
       "175              6.840000       1.656800e+08  4.380750e+08\n",
       "200              7.077419       1.900323e+08  4.806583e+08\n",
       "200              6.857143       2.603905e+08  6.378738e+08"
      ]
     },
     "execution_count": 19,
     "metadata": {},
     "output_type": "execute_result"
    }
   ],
   "source": [
    "#plt.bar(t, u)\n",
    "for symbol in ['<', '=', '>']:\n",
    "    third_graph.index = third_graph.index.str.replace(symbol, '')\n",
    "third_graph.index = pd.to_numeric(third_graph.index)\n",
    "third_graph.sort_values(by='budget_grp')"
   ]
  },
  {
   "cell_type": "code",
   "execution_count": 20,
   "metadata": {},
   "outputs": [
    {
     "data": {
      "text/plain": [
       "<AxesSubplot:xlabel='budget_grp', ylabel='averagerating'>"
      ]
     },
     "execution_count": 20,
     "metadata": {},
     "output_type": "execute_result"
    },
    {
     "data": {
      "image/png": "[encoded data removed]",
      "text/plain": [
       "<Figure size 864x576 with 1 Axes>"
      ]
     },
     "metadata": {},
     "output_type": "display_data"
    }
   ],
   "source": [
    "sns.set_context({'figure.figsize': (12,8)})\n",
    "sns.barplot(x=third_graph.index, y=third_graph.averagerating, color='blue')"
   ]
  }
 ],
 "metadata": {
  "kernelspec": {
   "display_name": "Python 3",
   "language": "python",
   "name": "python3"
  },
  "language_info": {
   "codemirror_mode": {
    "name": "ipython",
    "version": 3
   },
   "file_extension": ".py",
   "mimetype": "text/x-python",
   "name": "python",
   "nbconvert_exporter": "python",
   "pygments_lexer": "ipython3",
   "version": "3.8.5"
  }
 },
 "nbformat": 4,
 "nbformat_minor": 4
}
